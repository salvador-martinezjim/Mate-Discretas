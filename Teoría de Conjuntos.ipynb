{
 "cells": [
  {
   "cell_type": "markdown",
   "id": "e1a7a08e",
   "metadata": {},
   "source": [
    "# Teoría de conjuntos con Python\n",
    "\n",
    "La teoría de conjuntos es una rama de las matemáticas que estudia las propiedades y relaciones de conjuntos, que son colecciones de elementos. En Python, puedes trabajar con conjuntos utilizando el tipo de datos set. Los conjuntos en Python tienen algunas similitudes con los conjuntos matemáticos, pero también tienen algunas diferencias\n",
    "\n",
    "## Creación de conjuntos\n",
    "\n",
    "En python puedes crear un conjunto utilizando llaves {} o la función set()"
   ]
  },
  {
   "cell_type": "code",
   "execution_count": 6,
   "id": "991062a4",
   "metadata": {},
   "outputs": [],
   "source": [
    "A = {1 ,2 , 3 , 4 ,5}"
   ]
  },
  {
   "cell_type": "code",
   "execution_count": 7,
   "id": "8bab9339",
   "metadata": {},
   "outputs": [],
   "source": [
    "B = {3, 5 , 6, 7}"
   ]
  },
  {
   "cell_type": "code",
   "execution_count": null,
   "id": "10aed68a",
   "metadata": {},
   "outputs": [],
   "source": [
    "C = set([ 3 , 6 , 9 , 12 , 15])"
   ]
  },
  {
   "cell_type": "markdown",
   "id": "04f02e81",
   "metadata": {},
   "source": [
    "## Tabla"
   ]
  },
  {
   "cell_type": "code",
   "execution_count": 9,
   "id": "6006e8ae",
   "metadata": {},
   "outputs": [],
   "source": [
    "lista = {1 , 2, 3 ,4 ,5 ,1 ,2 ,3 , 4, 5}"
   ]
  },
  {
   "cell_type": "code",
   "execution_count": 10,
   "id": "913f4a73",
   "metadata": {},
   "outputs": [
    {
     "data": {
      "text/plain": [
       "{1, 2, 3, 4, 5}"
      ]
     },
     "execution_count": 10,
     "metadata": {},
     "output_type": "execute_result"
    }
   ],
   "source": [
    "lista"
   ]
  },
  {
   "cell_type": "code",
   "execution_count": 11,
   "id": "a7c03b03",
   "metadata": {},
   "outputs": [],
   "source": [
    "conjunto = set(lista)"
   ]
  },
  {
   "cell_type": "markdown",
   "id": "858b4b3a",
   "metadata": {},
   "source": [
    "## Operaciones\n",
    "\n",
    "Python proporciona operaciones y métodos para realizar operaciones básicas de conjuntos como unión\n",
    "\n",
    "## Unión"
   ]
  },
  {
   "cell_type": "markdown",
   "id": "a85de88d",
   "metadata": {},
   "source": [
    "$$\n",
    "    C=A \\cup B = {x:x \\in A \\quad o \\quad x \\in B}\n",
    "$$    "
   ]
  },
  {
   "cell_type": "code",
   "execution_count": 8,
   "id": "932341a5",
   "metadata": {},
   "outputs": [
    {
     "data": {
      "text/plain": [
       "{1, 2, 3, 4, 5, 6, 7}"
      ]
     },
     "execution_count": 8,
     "metadata": {},
     "output_type": "execute_result"
    }
   ],
   "source": [
    "A | B"
   ]
  },
  {
   "cell_type": "code",
   "execution_count": 12,
   "id": "960955e6",
   "metadata": {},
   "outputs": [
    {
     "data": {
      "text/plain": [
       "{1, 2, 3, 4, 5, 6, 7}"
      ]
     },
     "execution_count": 12,
     "metadata": {},
     "output_type": "execute_result"
    }
   ],
   "source": [
    "A.union(B)"
   ]
  },
  {
   "cell_type": "markdown",
   "id": "11929e74",
   "metadata": {},
   "source": [
    "La unión de dos conjuntos \n",
    "\n",
    "A y \n",
    "\n",
    "B consiste en combinar todos los elementos de ambos conjuntos en uno solo.\n",
    "Formalmente, la unión de \n",
    "\n",
    "A y \n",
    "\n",
    "B se denota como \n",
    "\n",
    "∪\n",
    "\n",
    "A∪B y contiene todos los elementos que pertenecen a \n",
    "\n",
    "A, a \n",
    "\n",
    "B, o a ambos conjuntos.\n",
    "No hay duplicados en la unión de conjuntos."
   ]
  },
  {
   "cell_type": "markdown",
   "id": "dcc5df3e",
   "metadata": {},
   "source": [
    "## Intersección"
   ]
  },
  {
   "cell_type": "markdown",
   "id": "4044c28d",
   "metadata": {},
   "source": [
    "$$\n",
    "    C=A \\cap B = {x:x \\in A \\quad o \\quad x \\in B}\n",
    "$$    "
   ]
  },
  {
   "cell_type": "markdown",
   "id": "577082dc",
   "metadata": {},
   "source": [
    "interseccion = conjunto1 & conjunto2\n"
   ]
  },
  {
   "cell_type": "code",
   "execution_count": 14,
   "id": "5b8025c5",
   "metadata": {},
   "outputs": [
    {
     "data": {
      "text/plain": [
       "{3, 5}"
      ]
     },
     "execution_count": 14,
     "metadata": {},
     "output_type": "execute_result"
    }
   ],
   "source": [
    "A & B"
   ]
  },
  {
   "cell_type": "markdown",
   "id": "7e1c5015",
   "metadata": {},
   "source": [
    "La intersección de dos conjuntos \n",
    "\n",
    "A yB consiste en encontrar los elementos que son comunes a ambos conjuntos.\n",
    "Formalmente, la intersección de \n",
    "\n",
    "A y B se denota como ∩\n",
    "\n",
    "A∩B y contiene todos los elementos que pertenecen tanto a \n",
    "\n",
    "A como a \n",
    "\n",
    "B."
   ]
  },
  {
   "cell_type": "markdown",
   "id": "9a795890",
   "metadata": {},
   "source": [
    "## Diferencia"
   ]
  },
  {
   "cell_type": "markdown",
   "id": "d6ffe353",
   "metadata": {},
   "source": [
    "$$\n",
    "    C=A \\setminus B = {x:x \\in A \\quad o \\quad x \\in B}\n",
    "$$  "
   ]
  },
  {
   "cell_type": "markdown",
   "id": "3cfacc37",
   "metadata": {},
   "source": [
    "diferencia = conjunto1 - conjunto2\n"
   ]
  },
  {
   "cell_type": "code",
   "execution_count": 15,
   "id": "2a46623f",
   "metadata": {},
   "outputs": [
    {
     "data": {
      "text/plain": [
       "{1, 2, 4}"
      ]
     },
     "execution_count": 15,
     "metadata": {},
     "output_type": "execute_result"
    }
   ],
   "source": [
    "A - B"
   ]
  },
  {
   "cell_type": "markdown",
   "id": "079a9192",
   "metadata": {},
   "source": [
    "La diferencia entre dos conjuntos \n",
    "\n",
    "A y \n",
    "\n",
    "B consiste en los elementos que pertenecen a \n",
    "\n",
    "A pero no a \n",
    "\n",
    "B.\n",
    "Formalmente, la diferencia de \n",
    "\n",
    "A y \n",
    "\n",
    "B se denota como \n",
    "\n",
    "−\n",
    "\n",
    "A−B y contiene todos los elementos que están en \n",
    "\n",
    "A pero no en \n",
    "\n",
    "B."
   ]
  },
  {
   "cell_type": "markdown",
   "id": "68cde7b3",
   "metadata": {},
   "source": [
    "## Diagramas de Ven\n",
    "\n",
    "Los diagramas de Venn son una representación visual de conjuntos y sus relaciones, que permite visualizar la intersección y la diferencia entre conjuntos de una manera intuitiva. En Python, puedes crear diagramas de Venn utilizando varias bibliotecas, como Matplotlib o la biblioteca especializada matplotlib-venn."
   ]
  },
  {
   "cell_type": "code",
   "execution_count": 18,
   "id": "d37777f4",
   "metadata": {},
   "outputs": [
    {
     "ename": "AttributeError",
     "evalue": "'Axes' object has no attribute 'get_labels'",
     "output_type": "error",
     "traceback": [
      "\u001b[1;31m---------------------------------------------------------------------------\u001b[0m",
      "\u001b[1;31mAttributeError\u001b[0m                            Traceback (most recent call last)",
      "Cell \u001b[1;32mIn[18], line 16\u001b[0m\n\u001b[0;32m     14\u001b[0m \u001b[38;5;66;03m# Personalizar el diagrama\u001b[39;00m\n\u001b[0;32m     15\u001b[0m ax\u001b[38;5;241m.\u001b[39mset_title(\u001b[38;5;124m\"\u001b[39m\u001b[38;5;124mDiagrama de Venn\u001b[39m\u001b[38;5;124m\"\u001b[39m)\n\u001b[1;32m---> 16\u001b[0m \u001b[38;5;28;01mfor\u001b[39;00m label \u001b[38;5;129;01min\u001b[39;00m ax\u001b[38;5;241m.\u001b[39mget_labels():\n\u001b[0;32m     17\u001b[0m     label\u001b[38;5;241m.\u001b[39mset_fontsize(\u001b[38;5;241m14\u001b[39m)\n\u001b[0;32m     19\u001b[0m \u001b[38;5;66;03m# Mostrar el diagrama\u001b[39;00m\n",
      "\u001b[1;31mAttributeError\u001b[0m: 'Axes' object has no attribute 'get_labels'"
     ]
    },
    {
     "data": {
      "image/png": "[encoded data removed]",
      "text/plain": [
       "<Figure size 1000x1000 with 1 Axes>"
      ]
     },
     "metadata": {},
     "output_type": "display_data"
    }
   ],
   "source": [
    "# Importar las librerías necesarias\n",
    "import matplotlib.pyplot as plt\n",
    "from matplotlib_venn import venn3\n",
    "\n",
    "# Definir los conjuntos\n",
    "A = {1, 2, 3, 4, 5}\n",
    "B = {3, 5, 6, 7}\n",
    "C = set([3, 6, 9, 12, 15])\n",
    "\n",
    "# Diagrama de Venn con 3 conjuntos\n",
    "fig, ax = plt.subplots(figsize=(10, 10))\n",
    "venn3(subsets=(A, B, C), set_labels=(\"A\", \"B\", \"C\"))\n",
    "\n",
    "# Personalizar el diagrama\n",
    "ax.set_title(\"Diagrama de Venn\")\n",
    "for label in ax.get_labels():\n",
    "    label.set_fontsize(14)\n",
    "\n",
    "# Mostrar el diagrama\n",
    "plt.show()\n"
   ]
  },
  {
   "cell_type": "code",
   "execution_count": 19,
   "id": "8bcc2e19",
   "metadata": {},
   "outputs": [
    {
     "data": {
      "image/png": "[encoded data removed]",
      "text/plain": [
       "<Figure size 640x480 with 1 Axes>"
      ]
     },
     "metadata": {},
     "output_type": "display_data"
    }
   ],
   "source": [
    "from matplotlib import pyplot as plt\n",
    "from matplotlib_venn import venn2\n",
    "\n",
    "# Definir los conjuntos\n",
    "A = {1, 2, 3, 4, 5}\n",
    "B = {3, 5, 6, 7}\n",
    "\n",
    "# Crear el diagrama de Venn\n",
    "venn2([A, B], ('A', 'B'))\n",
    "\n",
    "# Personalizar las etiquetas\n",
    "plt.title(\"Diagrama de Venn de los conjuntos A y B\")\n",
    "plt.show()\n"
   ]
  },
  {
   "cell_type": "code",
   "execution_count": null,
   "id": "cd943cdf",
   "metadata": {},
   "outputs": [],
   "source": []
  }
 ],
 "metadata": {
  "kernelspec": {
   "display_name": "Python 3 (ipykernel)",
   "language": "python",
   "name": "python3"
  },
  "language_info": {
   "codemirror_mode": {
    "name": "ipython",
    "version": 3
   },
   "file_extension": ".py",
   "mimetype": "text/x-python",
   "name": "python",
   "nbconvert_exporter": "python",
   "pygments_lexer": "ipython3",
   "version": "3.11.5"
  }
 },
 "nbformat": 4,
 "nbformat_minor": 5
}
