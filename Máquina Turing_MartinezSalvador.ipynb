{
 "cells": [
  {
   "cell_type": "markdown",
   "id": "6df43895",
   "metadata": {},
   "source": [
    "# MÁQUINA DE TURING"
   ]
  },
  {
   "cell_type": "markdown",
   "id": "3616fc07",
   "metadata": {},
   "source": [
    "## ¿Qué es una maquina de Turing?\n",
    "\n",
    "Una Máquina de Turing es un modelo matemático de computación que fue propuesto por el matemático británico Alan Turing en 1936.\n",
    "Se utiliza para describir una máquina hipotética que manipula símbolos en una tira de cinta de acuerdo con un conjunto de reglas.\n",
    "A pesar de su simplicidad, las Máquinas de Turing son extremadamente poderosas y pueden simular la lógica de cualquier algoritmo de computación."
   ]
  },
  {
   "cell_type": "markdown",
   "id": "a80475b9",
   "metadata": {},
   "source": [
    "## Componentes de una máquina de Turing\n",
    "\n",
    "1. Cinta: Una cinta infinita dividida en celdas, cada una de las cuales contiene un símbolo de un alfabeto finito.\n",
    "La cinta puede moverse a la izquierda o a la derecha.\n",
    "2. Cabezal de lectura/escritura: Un dispositivo que puede leer y escribir símbolos en la cinta y moverse a la izquierda o a la derecha.\n",
    "3. Conjunto de estados: Un conjunto finito de estados en los que la máquina puede estar.\n",
    "4. Función de transición: Una función que, dado el estado actual y el símbolo bajo el cabezal, define el siguiente estado, el símbolo a escribir, y el movimiento del cabezal (izquierda o derecha)."
   ]
  },
  {
   "cell_type": "markdown",
   "id": "29edaf28",
   "metadata": {},
   "source": [
    "## Funcionamiento\n",
    "\n",
    "La Máquina de Turing funciona en pasos discretos:\n",
    "1. Lee el símbolo bajo el cabezal.\n",
    "2. Basado en el símbolo leído y el estado actual, consulta la función de transición para determinar el nuevo símbolo, el movimiento del cabezal, y el nuevo estado.\n",
    "3. Escribe el nuevo símbolo en la cinta.\n",
    "4. Mueve el cabezal a la izquierda o a la derecha.\n",
    "5. Cambia al nuevo estado.\n",
    "6. Repite el proceso hasta alcanzar un estado de aceptación (final) o rechazo."
   ]
  },
  {
   "cell_type": "markdown",
   "id": "a8738929",
   "metadata": {},
   "source": [
    "**Vamos a implementar una Máquina de Turing simple en Python. Esta máquina aceptará una cadena binaria que contenga un número par de ceros.**"
   ]
  },
  {
   "cell_type": "code",
   "execution_count": 16,
   "id": "3aed978b",
   "metadata": {},
   "outputs": [],
   "source": [
    "class TuringMachine:\n",
    "    def __init__(self, tape, initial_state, accepting_states, transition_function):\n",
    "        \"\"\"\n",
    "        Inicializa la máquina de Turing con la cinta, el estado inicial, los estados de aceptación y la función de transición.\n",
    "        \"\"\"\n",
    "        self.tape = list(tape)  # Convierte la cinta en una lista para facilitar el acceso a las celdas individuales.\n",
    "        self.head_position = 0  # Posición inicial del cabezal de lectura/escritura.\n",
    "        self.current_state = initial_state  # Estado inicial de la máquina.\n",
    "        self.accepting_states = accepting_states  # Conjunto de estados de aceptación.\n",
    "        self.transition_function = transition_function  # Función de transición que define las reglas de la máquina.\n",
    "\n"
   ]
  },
  {
   "cell_type": "markdown",
   "id": "317f18e6",
   "metadata": {},
   "source": [
    "**Función que ejecuta un paso de la máquina de turing**"
   ]
  },
  {
   "cell_type": "code",
   "execution_count": 9,
   "id": "7ff48388",
   "metadata": {},
   "outputs": [],
   "source": [
    "def step(self):\n",
    "        \n",
    "        symbol = self.tape[self.head_position]  # Lee el símbolo bajo el cabezal.\n",
    "        state_symbol_pair = (self.current_state, symbol)  # Par (estado, símbolo) actual.\n",
    "\n",
    "        if state_symbol_pair in self.transition_function:\n",
    "            # Si el par (estado, símbolo) está en la función de transición, determina el nuevo estado, símbolo y dirección.\n",
    "            new_state, new_symbol, direction = self.transition_function[state_symbol_pair]\n",
    "            self.tape[self.head_position] = new_symbol  # Escribe el nuevo símbolo en la cinta.\n",
    "            self.current_state = new_state  # Cambia al nuevo estado.\n",
    "\n",
    "            if direction == 'R':\n",
    "                # Mueve el cabezal a la derecha.\n",
    "                self.head_position += 1\n",
    "            elif direction == 'L':\n",
    "                # Mueve el cabezal a la izquierda.\n",
    "                self.head_position -= 1\n",
    "        else:\n",
    "            print(\"Transición no encontrada por este estado and symbol pair!\")\n",
    "            # Si no se encuentra una transición para el par (estado, símbolo), imprime un mensaje de error."
   ]
  },
  {
   "cell_type": "markdown",
   "id": "1da5ee50",
   "metadata": {},
   "source": [
    "**Función que Ejecuta la máquina de Turing hasta que alcance un estado de aceptación**"
   ]
  },
  {
   "cell_type": "code",
   "execution_count": 10,
   "id": "25c5fb32",
   "metadata": {},
   "outputs": [],
   "source": [
    " def run(self):\n",
    "        # Ejecuta la máquina de Turing hasta que alcance un estado de aceptación.\n",
    "        while self.current_state not in self.accepting_states:\n",
    "            self.step()\n",
    "        return self.current_state in self.accepting_states\n",
    "        # Devuelve True si la máquina alcanza un estado de aceptación, de lo contrario, False.\n"
   ]
  },
  {
   "cell_type": "markdown",
   "id": "575044d1",
   "metadata": {},
   "source": [
    "**Definimos la función de transición**"
   ]
  },
  {
   "cell_type": "code",
   "execution_count": 11,
   "id": "7fa9432a",
   "metadata": {},
   "outputs": [],
   "source": [
    "transition_function = {\n",
    "    ('q0', '0'): ('q1', 'X', 'R'),  # Si está en q0 y lee 0, escribe X, se mueve a la derecha y cambia a q1.\n",
    "    ('q0', '1'): ('q0', '1', 'R'),  # Si está en q0 y lee 1, se mantiene en q0 y se mueve a la derecha.\n",
    "    ('q0', ' '): ('q_accept', ' ', 'R'),  # Si está en q0 y lee un espacio en blanco, cambia al estado de aceptación.\n",
    "    ('q1', '0'): ('q0', 'X', 'R'),  # Si está en q1 y lee 0, escribe X, se mueve a la derecha y cambia a q0.\n",
    "    ('q1', '1'): ('q1', '1', 'R'),  # Si está en q1 y lee 1, se mantiene en q1 y se mueve a la derecha.\n",
    "    ('q1', ' '): ('q_reject', ' ', 'R'),  # Si está en q1 y lee un espacio en blanco, cambia al estado de rechazo.\n",
    "}"
   ]
  },
  {
   "cell_type": "markdown",
   "id": "326da219",
   "metadata": {},
   "source": [
    "**Creamos y corremos la Máquina de Turing**"
   ]
  },
  {
   "cell_type": "code",
   "execution_count": 20,
   "id": "01f0bcdf",
   "metadata": {},
   "outputs": [
    {
     "name": "stdout",
     "output_type": "stream",
     "text": [
      "La cadena es aceptada por la máquina de Turing\n"
     ]
    }
   ],
   "source": [
    "\n",
    "\n",
    "# Creamos la máquina de Turing\n",
    "tape = \"0011 \"  # Cinta inicial con un espacio en blanco al final.\n",
    "initial_state = 'q0'  # Estado inicial de la máquina.\n",
    "accepting_states = {'q_accept'}  # Conjunto de estados de aceptación.\n",
    "\n",
    "tm = TuringMachine(tape, initial_state, accepting_states, transition_function)\n",
    "\n",
    "# Corremos la máquina de Turing\n",
    "result = tm.run()\n",
    "print(\"La cadena es aceptada por la máquina de Turing\" if result else \"La cadena es rechazada por la máquina de Turing\")\n"
   ]
  },
  {
   "cell_type": "code",
   "execution_count": null,
   "id": "4866c9db",
   "metadata": {},
   "outputs": [],
   "source": []
  }
 ],
 "metadata": {
  "kernelspec": {
   "display_name": "Python 3 (ipykernel)",
   "language": "python",
   "name": "python3"
  },
  "language_info": {
   "codemirror_mode": {
    "name": "ipython",
    "version": 3
   },
   "file_extension": ".py",
   "mimetype": "text/x-python",
   "name": "python",
   "nbconvert_exporter": "python",
   "pygments_lexer": "ipython3",
   "version": "3.11.5"
  }
 },
 "nbformat": 4,
 "nbformat_minor": 5
}
